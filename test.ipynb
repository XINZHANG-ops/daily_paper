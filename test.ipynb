{
 "cells": [
  {
   "cell_type": "code",
   "execution_count": 2,
   "metadata": {},
   "outputs": [],
   "source": [
    "import re"
   ]
  },
  {
   "cell_type": "code",
   "execution_count": null,
   "metadata": {},
   "outputs": [],
   "source": [
    "https://www.transparenttextures.com/\n",
    "\n",
    "https://xinzhang-ops.github.io/daily_paper/"
   ]
  },
  {
   "cell_type": "code",
   "execution_count": 3,
   "metadata": {},
   "outputs": [],
   "source": [
    "content = \"\"\"\n",
    "1. 📘 Topic and Domain: The paper focuses on improving the temporal quality of generated videos, specifically addressing temporal coherence and diversity, within the domain of video generation. 2. 💡 Previous Research and New Ideas: The paper builds upon existing video generation models (U-Net, DiT, AR-based) and temporal refinement techniques (architecture-centric modeling, physics-informed regularization, training dynamics optimization) and proposes FLUX FLOW, a novel data-level temporal augmentation strategy. 3. ❓ Problem: The paper aims to solve the problem of temporal artifacts (flickering, discontinuous motion, repetitive dynamics) and limited temporal diversity in videos produced by existing video generation models. 4. 🛠️ Methods: The authors used FLUX FLOW, which introduces controlled temporal perturbations at the data level through frame-level (random shuffling of frames) and block-level (reordering of frame blocks) operations during training. 5. 📊 Results and Evaluation: FLUX FLOW significantly improved temporal coherence and diversity across various video generation models on UCF-101 and VBench benchmarks, while maintaining or improving spatial fidelity, as evaluated using metrics like FVD, IS, and various VBench dimensions, supported by user studies.\n",
    "\"\"\""
   ]
  },
  {
   "cell_type": "code",
   "execution_count": 5,
   "metadata": {},
   "outputs": [
    {
     "data": {
      "text/plain": [
       "'\\n1. 📘 Topic and Domain: The paper focuses on improving the temporal quality of generated videos, specifically addressing temporal coherence and diversity, within the domain of video generation. 2. 💡 Previous Research and New Ideas: The paper builds upon existing video generation models (U-Net, DiT, AR-based) and temporal refinement techniques (architecture-centric modeling, physics-informed regularization, training dynamics optimization) and proposes FLUX FLOW, a novel data-level temporal augmentation strategy. 3. ❓ Problem: The paper aims to solve the problem of temporal artifacts (flickering, discontinuous motion, repetitive dynamics) and limited temporal diversity in videos produced by existing video generation models. 4. 🛠️ Methods: The authors used FLUX FLOW, which introduces controlled temporal perturbations at the data level through frame-level (random shuffling of frames) and block-level (reordering of frame blocks) operations during training. 5. 📊 Results and Evaluation: FLUX FLOW significantly improved temporal coherence and diversity across various video generation models on UCF-101 and VBench benchmarks, while maintaining or improving spatial fidelity, as evaluated using metrics like FVD, IS, and various VBench dimensions, supported by user studies.\\n'"
      ]
     },
     "execution_count": 5,
     "metadata": {},
     "output_type": "execute_result"
    }
   ],
   "source": [
    "content_formatted = re.sub(r'\\*\\*(.*?)\\*\\*', r'<strong>\\1</strong>', content)\n",
    "content_formatted"
   ]
  },
  {
   "cell_type": "code",
   "execution_count": 6,
   "metadata": {},
   "outputs": [
    {
     "data": {
      "text/plain": [
       "['\\n',\n",
       " '1. 📘 Topic and Domain: The paper focuses on improving the temporal quality of generated videos, specifically addressing temporal coherence and diversity, within the domain of video generation. ',\n",
       " '2. 💡 Previous Research and New Ideas: The paper builds upon existing video generation models (U-Net, DiT, AR-based) and temporal refinement techniques (architecture-centric modeling, physics-informed regularization, training dynamics optimization) and proposes FLUX FLOW, a novel data-level temporal augmentation strategy. ',\n",
       " '3. ❓ Problem: The paper aims to solve the problem of temporal artifacts (flickering, discontinuous motion, repetitive dynamics) and limited temporal diversity in videos produced by existing video generation models. ',\n",
       " '4. 🛠️ Methods: The authors used FLUX FLOW, which introduces controlled temporal perturbations at the data level through frame-level (random shuffling of frames) and block-level (reordering of frame blocks) operations during training. ',\n",
       " '5. 📊 Results and Evaluation: FLUX FLOW significantly improved temporal coherence and diversity across various video generation models on UCF-101 and VBench benchmarks, while maintaining or improving spatial fidelity, as evaluated using metrics like FVD, IS, and various VBench dimensions, supported by user studies.\\n']"
      ]
     },
     "execution_count": 6,
     "metadata": {},
     "output_type": "execute_result"
    }
   ],
   "source": [
    "re.split(r'(?=\\d+\\.\\s*[📘💡❓🛠️📊])', content_formatted)"
   ]
  },
  {
   "cell_type": "code",
   "execution_count": 32,
   "metadata": {},
   "outputs": [],
   "source": [
    "import os\n",
    "import re\n",
    "import json\n",
    "import uuid\n",
    "import time\n",
    "import subprocess\n",
    "from string import Template \n",
    "from tqdm import tqdm\n",
    "from loguru import logger\n",
    "from datetime import date\n",
    "\n",
    "\n",
    "# HTML 模板：主页面，使用 $ 作为占位符\n",
    "INDEX_TEMPLATE = \"\"\"\n",
    "<!DOCTYPE html>\n",
    "<html lang=\"zh-CN\">\n",
    "<head>\n",
    "    <meta charset=\"UTF-8\">\n",
    "    <meta name=\"viewport\" content=\"width=device-width, initial-scale=1.0\">\n",
    "    <title>Daily Paper</title>\n",
    "    <style>\n",
    "        body {\n",
    "            font-family: Arial, sans-serif;\n",
    "            max-width: 800px;\n",
    "            margin: 0 auto;\n",
    "            padding: 20px;\n",
    "            line-height: 1.6;\n",
    "        }\n",
    "        h1 {\n",
    "            text-align: center;\n",
    "            color: #333;\n",
    "        }\n",
    "        ul {\n",
    "            list-style: none;\n",
    "            padding: 0;\n",
    "        }\n",
    "        li {\n",
    "            margin: 10px 0;\n",
    "        }\n",
    "        a {\n",
    "            text-decoration: none;\n",
    "            color: #1a73e8;\n",
    "        }\n",
    "        a:hover {\n",
    "            text-decoration: underline;\n",
    "        }\n",
    "    </style>\n",
    "</head>\n",
    "<body>\n",
    "    <h1>Daily Paper</h1>\n",
    "    <ul>\n",
    "        $date_links\n",
    "    </ul>\n",
    "</body>\n",
    "</html>\n",
    "\"\"\"\n",
    "\n",
    "# HTML 模板：子页面，使用 $ 作为占位符\n",
    "SUBPAGE_TEMPLATE = \"\"\"\n",
    "<!DOCTYPE html>\n",
    "<html lang=\"zh-CN\">\n",
    "<head>\n",
    "    <meta charset=\"UTF-8\">\n",
    "    <meta name=\"viewport\" content=\"width=device-width, initial-scale=1.0\">\n",
    "    <title>$date 论文推送</title>\n",
    "    <style>\n",
    "        body {\n",
    "            font-family: Arial, sans-serif;\n",
    "            max-width: 800px;\n",
    "            margin: 0 auto;\n",
    "            padding: 20px;\n",
    "            line-height: 1.6;\n",
    "        }\n",
    "        h1 {\n",
    "            color: #333;\n",
    "        }\n",
    "        .paper-card {\n",
    "            background-color: #f9f9f9;\n",
    "            border: 1px solid #ddd;\n",
    "            border-radius: 5px;\n",
    "            padding: 15px;\n",
    "            margin-bottom: 20px;\n",
    "            transition: transform 0.2s, box-shadow 0.2s; /* Smooth transition for hover effect */\n",
    "        }\n",
    "        .paper-card:hover {\n",
    "            transform: translateY(-5px); /* Lift effect on hover */\n",
    "            box-shadow: 0 5px 15px rgba(0, 0, 0, 0.2); /* Shadow on hover */\n",
    "        }\n",
    "        .paper-card h2 {\n",
    "            margin: 0 0 10px;\n",
    "            font-size: 1.2em;\n",
    "        }\n",
    "        .paper-card p {\n",
    "            margin: 5px 0;\n",
    "        }\n",
    "        .paper-card a {\n",
    "            color: #1a73e8;\n",
    "            text-decoration: none;\n",
    "        }\n",
    "        .paper-card a:hover {\n",
    "            text-decoration: underline;\n",
    "        }\n",
    "        .category-chunk {\n",
    "            padding: 10px;\n",
    "            margin: 5px 0;\n",
    "            border-radius: 5px;\n",
    "            transition: transform 0.2s, box-shadow 0.2s; /* Smooth transition for hover effect */\n",
    "        }\n",
    "        .category-chunk:hover {\n",
    "            transform: translateY(-3px); /* Slightly smaller lift for categories */\n",
    "            box-shadow: 0 3px 10px rgba(0, 0, 0, 0.15); /* Slightly smaller shadow for categories */\n",
    "        }\n",
    "        .category-chunk:nth-child(1) { /* 1. Topic and Domain */\n",
    "            background-color: #d3e3fd; /* Blue */\n",
    "        }\n",
    "        .category-chunk:nth-child(2) { /* 2. Previous Research and New Ideas */\n",
    "            background-color: #e6d6fa; /* Purple */\n",
    "        }\n",
    "        .category-chunk:nth-child(3) { /* 3. Problem */\n",
    "            background-color: #d4f8d9; /* Green */\n",
    "        }\n",
    "        .category-chunk:nth-child(4) { /* 4. Methods */\n",
    "            background-color: #ffd7d5; /* Pink */\n",
    "        }\n",
    "        .category-chunk:nth-child(5) { /* 5. Results and Evaluation */\n",
    "            background-color: #d3e3fd; /* Reuse Blue */\n",
    "        }\n",
    "    </style>\n",
    "</head>\n",
    "<body>\n",
    "    <h1>$date 论文推送</h1>\n",
    "    $paper_content\n",
    "</body>\n",
    "</html>\n",
    "\"\"\"\n",
    "\n",
    "\n",
    "def extract_categories(text):\n",
    "    \"\"\"\n",
    "    Extract the 5 categories and their content from a formatted text string.\n",
    "    \n",
    "    Each category is identified by its unique emoji (📘, 💡, ❓, 🛠️, 📊) regardless of the\n",
    "    exact title text. The function maps these to standardized category names.\n",
    "    \n",
    "    Args:\n",
    "        text (str): The input text containing the 5 categories\n",
    "        \n",
    "    Returns:\n",
    "        dict: A dictionary with standardized category titles as keys and their content as values\n",
    "    \"\"\"\n",
    "    # Define patterns based on emojis only, not the category titles\n",
    "    patterns = [\n",
    "        (r'\\d+\\.\\s+\\*\\*📘.*?\\*\\*\\s+(.*?)(?=\\n\\n\\d+\\.|\\Z)', \"📘 Topic and Domain\",),\n",
    "        (r'\\d+\\.\\s+\\*\\*💡.*?\\*\\*\\s+(.*?)(?=\\n\\n\\d+\\.|\\Z)', \"💡 Previous Research and New Ideas\"),\n",
    "        (r'\\d+\\.\\s+\\*\\*❓.*?\\*\\*\\s+(.*?)(?=\\n\\n\\d+\\.|\\Z)', \"❓ Problem\"),\n",
    "        (r'\\d+\\.\\s+\\*\\*🛠️.*?\\*\\*\\s+(.*?)(?=\\n\\n\\d+\\.|\\Z)', \"🛠️ Methods\"),\n",
    "        (r'\\d+\\.\\s+\\*\\*📊.*?\\*\\*\\s+(.*?)(?=\\n\\n|\\Z)', \"📊 Results and Evaluation\")\n",
    "    ]\n",
    "    \n",
    "    # Create a dictionary to store results\n",
    "    results = []\n",
    "    \n",
    "    # Apply each pattern and store results with standardized category names\n",
    "    for pattern, category_name in patterns:\n",
    "        match = re.search(pattern, text, re.DOTALL)\n",
    "        if match:\n",
    "            results.append((category_name, match.group(1).strip()))    \n",
    "    return results\n",
    "\n",
    "\n",
    "\n",
    "def generate_paper_html(articles):\n",
    "    \"\"\"生成子页面的论文内容 HTML，与 Google Chat 推送内容一致\"\"\"\n",
    "    # logger.debug(articles)\n",
    "    paper_html = \"\"\n",
    "    for idx, article in enumerate(articles):\n",
    "        title = article.get('title', 'No Title')\n",
    "        published_at = article.get('published_at', 'No Date')\n",
    "        url = article.get('url', '#')\n",
    "        content = article.get('content', 'No Content')\n",
    "        categories = extract_categories(content)\n",
    "        # 为每个类别添加 div 和样式\n",
    "        content_html = \"\"\n",
    "        for idx, (cat, cat_content) in enumerate(categories):\n",
    "            content_html += f\"\"\"<div class=\"category-chunk\">{idx+1}.  <strong>{cat}:</strong> {cat_content}</div>\"\"\"\n",
    "\n",
    "        paper_html += f\"\"\"\n",
    "        <div class=\"paper-card\">\n",
    "            <h2>Paper: {idx+1}</h2>\n",
    "            <p><strong>{title}</strong></p>\n",
    "            <p><strong>Published: </strong>{published_at}</p>\n",
    "            <p><strong>Link: </strong><a href=\"{url}\" target=\"_blank\">{url}</a></p>\n",
    "            <div>{content_html}</div>\n",
    "        </div>\n",
    "        \"\"\"\n",
    "    return paper_html"
   ]
  },
  {
   "cell_type": "code",
   "execution_count": 33,
   "metadata": {},
   "outputs": [],
   "source": [
    "articles = [{'title': 'Temporal Regularization Makes Your Video Generator Stronger', 'published_at': '2025-03-19', 'url': 'http://arxiv.org/pdf/2503.15417', 'content': '1.  **📘 Topic and Domain:** The paper focuses on temporal data augmentation for video generation, specifically within the domain of computer vision and deep learning.\\n\\n2.  **💡 Previous Research and New Ideas:** The paper builds on existing video generation models (U-Net, DiT, AR-based) and proposes FLUX FLOW, a novel temporal augmentation strategy that perturbs frame order during training.\\n\\n3.  **❓ Problem:** The paper aims to solve the problem of temporal inconsistency and limited temporal diversity in generated videos, such as flickering and unnatural motion.\\n\\n4.  **🛠️ Methods:** The authors used FLUX FLOW, which includes frame-level and block-level temporal perturbations, applied as a pre-processing step during the training of video generation models.\\n\\n5.  **📊 Results and Evaluation:** FLUX FLOW significantly improved temporal coherence and diversity across various video generation models, as evaluated on UCF-101 and VBench benchmarks using metrics like FVD, IS, and user studies.\\n'}, {'title': 'Optimizing Decomposition for Optimal Claim Verification', 'published_at': '2025-03-19', 'url': 'http://arxiv.org/pdf/2503.15354', 'content': 'Here\\'s a concise analysis of the paper based on your requested format:\\n\\n1.  **📘 Topic and Domain:** The paper focuses on fact-checking of long-form text, specifically optimizing the decomposition stage within the \"Decompose-Then-Verify\" paradigm in the domain of Natural Language Processing.\\n\\n2.  **💡 Previous Research and New Ideas:** The paper builds upon existing \"Decompose-Then-Verify\" fact-checking methods that use handcrafted prompts, and proposes a novel reinforcement learning framework (dynamic decomposition) to learn a decomposition policy tailored to the verifier, introducing the concept of \"atomicity\" to quantify information density.\\n\\n3.  **❓ Problem:** The paper aims to solve the misalignment between decomposers and verifiers in existing fact-checking systems, where static decomposition policies don\\'t generate subclaims with optimal atomicity for downstream verification.\\n\\n4.  **🛠️ Methods:** The authors used a reinforcement learning (RL) framework, specifically Proximal Policy Optimization (PPO) in an Advantage Actor-Critic (A2C) style, to train a dynamic decomposition policy that interacts with a verifier and receives feedback.\\n\\n5.  **📊 Results and Evaluation:** The results, evaluated on verification confidence and accuracy across various datasets and verifiers, show that dynamic decomposition outperforms existing static decomposition policies, improving verification confidence by 0.07 and accuracy by 0.12 on average.\\n'}]"
   ]
  },
  {
   "cell_type": "code",
   "execution_count": 34,
   "metadata": {},
   "outputs": [
    {
     "data": {
      "text/plain": [
       "'1.  **📘 Topic and Domain:** The paper focuses on temporal data augmentation for video generation, specifically within the domain of computer vision and deep learning.\\n\\n2.  **💡 Previous Research and New Ideas:** The paper builds on existing video generation models (U-Net, DiT, AR-based) and proposes FLUX FLOW, a novel temporal augmentation strategy that perturbs frame order during training.\\n\\n3.  **❓ Problem:** The paper aims to solve the problem of temporal inconsistency and limited temporal diversity in generated videos, such as flickering and unnatural motion.\\n\\n4.  **🛠️ Methods:** The authors used FLUX FLOW, which includes frame-level and block-level temporal perturbations, applied as a pre-processing step during the training of video generation models.\\n\\n5.  **📊 Results and Evaluation:** FLUX FLOW significantly improved temporal coherence and diversity across various video generation models, as evaluated on UCF-101 and VBench benchmarks using metrics like FVD, IS, and user studies.\\n'"
      ]
     },
     "execution_count": 34,
     "metadata": {},
     "output_type": "execute_result"
    }
   ],
   "source": [
    "articles[0]['content']"
   ]
  },
  {
   "cell_type": "code",
   "execution_count": 35,
   "metadata": {},
   "outputs": [
    {
     "data": {
      "text/plain": [
       "'Here\\'s a concise analysis of the paper based on your requested format:\\n\\n1.  **📘 Topic and Domain:** The paper focuses on fact-checking of long-form text, specifically optimizing the decomposition stage within the \"Decompose-Then-Verify\" paradigm in the domain of Natural Language Processing.\\n\\n2.  **💡 Previous Research and New Ideas:** The paper builds upon existing \"Decompose-Then-Verify\" fact-checking methods that use handcrafted prompts, and proposes a novel reinforcement learning framework (dynamic decomposition) to learn a decomposition policy tailored to the verifier, introducing the concept of \"atomicity\" to quantify information density.\\n\\n3.  **❓ Problem:** The paper aims to solve the misalignment between decomposers and verifiers in existing fact-checking systems, where static decomposition policies don\\'t generate subclaims with optimal atomicity for downstream verification.\\n\\n4.  **🛠️ Methods:** The authors used a reinforcement learning (RL) framework, specifically Proximal Policy Optimization (PPO) in an Advantage Actor-Critic (A2C) style, to train a dynamic decomposition policy that interacts with a verifier and receives feedback.\\n\\n5.  **📊 Results and Evaluation:** The results, evaluated on verification confidence and accuracy across various datasets and verifiers, show that dynamic decomposition outperforms existing static decomposition policies, improving verification confidence by 0.07 and accuracy by 0.12 on average.\\n'"
      ]
     },
     "execution_count": 35,
     "metadata": {},
     "output_type": "execute_result"
    }
   ],
   "source": [
    "articles[1]['content']"
   ]
  },
  {
   "cell_type": "code",
   "execution_count": null,
   "metadata": {},
   "outputs": [],
   "source": []
  },
  {
   "cell_type": "code",
   "execution_count": 36,
   "metadata": {},
   "outputs": [
    {
     "name": "stdout",
     "output_type": "stream",
     "text": [
      "\n",
      "        <div class=\"paper-card\">\n",
      "            <h2>Paper: 5</h2>\n",
      "            <p><strong>Temporal Regularization Makes Your Video Generator Stronger</strong></p>\n",
      "            <p><strong>Published: </strong>2025-03-19</p>\n",
      "            <p><strong>Link: </strong><a href=\"http://arxiv.org/pdf/2503.15417\" target=\"_blank\">http://arxiv.org/pdf/2503.15417</a></p>\n",
      "            <div><div class=\"category-chunk\">1.  <strong>📘 Topic and Domain:</strong> The paper focuses on temporal data augmentation for video generation, specifically within the domain of computer vision and deep learning.</div><div class=\"category-chunk\">2.  <strong>💡 Previous Research and New Ideas:</strong> The paper builds on existing video generation models (U-Net, DiT, AR-based) and proposes FLUX FLOW, a novel temporal augmentation strategy that perturbs frame order during training.</div><div class=\"category-chunk\">3.  <strong>❓ Problem:</strong> The paper aims to solve the problem of temporal inconsistency and limited temporal diversity in generated videos, such as flickering and unnatural motion.</div><div class=\"category-chunk\">4.  <strong>🛠️ Methods:</strong> The authors used FLUX FLOW, which includes frame-level and block-level temporal perturbations, applied as a pre-processing step during the training of video generation models.</div><div class=\"category-chunk\">5.  <strong>📊 Results and Evaluation:</strong> FLUX FLOW significantly improved temporal coherence and diversity across various video generation models, as evaluated on UCF-101 and VBench benchmarks using metrics like FVD, IS, and user studies.</div></div>\n",
      "        </div>\n",
      "        \n",
      "        <div class=\"paper-card\">\n",
      "            <h2>Paper: 5</h2>\n",
      "            <p><strong>Optimizing Decomposition for Optimal Claim Verification</strong></p>\n",
      "            <p><strong>Published: </strong>2025-03-19</p>\n",
      "            <p><strong>Link: </strong><a href=\"http://arxiv.org/pdf/2503.15354\" target=\"_blank\">http://arxiv.org/pdf/2503.15354</a></p>\n",
      "            <div><div class=\"category-chunk\">1.  <strong>📘 Topic and Domain:</strong> The paper focuses on fact-checking of long-form text, specifically optimizing the decomposition stage within the \"Decompose-Then-Verify\" paradigm in the domain of Natural Language Processing.</div><div class=\"category-chunk\">2.  <strong>💡 Previous Research and New Ideas:</strong> The paper builds upon existing \"Decompose-Then-Verify\" fact-checking methods that use handcrafted prompts, and proposes a novel reinforcement learning framework (dynamic decomposition) to learn a decomposition policy tailored to the verifier, introducing the concept of \"atomicity\" to quantify information density.</div><div class=\"category-chunk\">3.  <strong>❓ Problem:</strong> The paper aims to solve the misalignment between decomposers and verifiers in existing fact-checking systems, where static decomposition policies don't generate subclaims with optimal atomicity for downstream verification.</div><div class=\"category-chunk\">4.  <strong>🛠️ Methods:</strong> The authors used a reinforcement learning (RL) framework, specifically Proximal Policy Optimization (PPO) in an Advantage Actor-Critic (A2C) style, to train a dynamic decomposition policy that interacts with a verifier and receives feedback.</div><div class=\"category-chunk\">5.  <strong>📊 Results and Evaluation:</strong> The results, evaluated on verification confidence and accuracy across various datasets and verifiers, show that dynamic decomposition outperforms existing static decomposition policies, improving verification confidence by 0.07 and accuracy by 0.12 on average.</div></div>\n",
      "        </div>\n",
      "        \n"
     ]
    }
   ],
   "source": [
    "print(generate_paper_html(articles))"
   ]
  },
  {
   "cell_type": "code",
   "execution_count": null,
   "metadata": {},
   "outputs": [],
   "source": [
    "target = \"\"\"\n",
    "<div class=\"paper-card\">\n",
    "    <h2>Paper: 1</h2>\n",
    "    <p><strong>Temporal Regularization Makes Your Video Generator Stronger</strong></p>\n",
    "    <p><strong>Published: </strong>2025-03-19</p>\n",
    "    <p><strong>Link: </strong><a href=\"http://arxiv.org/pdf/2503.15417\" target=\"_blank\">http://arxiv.org/pdf/2503.15417</a></p>\n",
    "    <div>\n",
    "        <div class=\"category-chunk\">1.  <strong>📘 Topic and Domain:</strong> The paper focuses on improving the temporal quality of video generation, specifically addressing temporal coherence and diversity, within the domain of computer vision and deep learning.</div>\n",
    "        <div class=\"category-chunk\">2.  <strong>💡 Previous Research and New Ideas:</strong> The paper builds on existing video generation models (U-Net, DiT, AR-based) and temporal refinement techniques (architecture-centric modeling, physics-informed regularization, training dynamics optimization), and proposes FLUX FLOW, a novel data-level temporal augmentation strategy.</div>\n",
    "        <div class=\"category-chunk\">3.  <strong>❓ Problem:</strong> The paper aims to solve the problem of temporal artifacts (flickering, discontinuous motion) and limited temporal diversity in videos generated by current video generation models.</div>\n",
    "        <div class=\"category-chunk\">4.  <strong>🛠️ Methods:</strong> The authors used FLUX FLOW, which involves frame-level and block-level temporal perturbations (random shuffling of frames or blocks of frames) during the training of video generation models.</div>\n",
    "        <div class=\"category-chunk\">5.  <strong>📊 Results and Evaluation:</strong> FLUX FLOW significantly improved temporal coherence and diversity across various video generation models, as evaluated on UCF-101 and VBench benchmarks using metrics like FVD, IS, and various VBench temporal and frame-wise quality scores, and was further supported by a user study.</div>\n",
    "    </div>\n",
    "</div>\n",
    "\"\"\""
   ]
  },
  {
   "cell_type": "code",
   "execution_count": 1,
   "metadata": {},
   "outputs": [],
   "source": [
    "import json\n",
    "summaries = []\n",
    "with open('summaries.jsonl', 'r') as file:\n",
    "    for line in file:\n",
    "        summaries.append(json.loads(line.strip()))"
   ]
  },
  {
   "cell_type": "code",
   "execution_count": 2,
   "metadata": {},
   "outputs": [],
   "source": [
    "from dotenv import load_dotenv\n",
    "import os\n",
    "\n",
    "load_dotenv()\n",
    "GENAI_GATEWAY_API_KEY = os.getenv(\"GENAI_GATEWAY_API_KEY\")\n",
    "os.environ['OPENAI_API_KEY'] = GENAI_GATEWAY_API_KEY"
   ]
  },
  {
   "cell_type": "code",
   "execution_count": 7,
   "metadata": {},
   "outputs": [],
   "source": [
    "import os\n",
    "from geotab_genai.genai_gateway_client import GenaiGatewayClient\n",
    "\n",
    "\n",
    "claude35_sonnet_v2 = GenaiGatewayClient(\n",
    "    api_key=os.getenv(\"GENAI_GATEWAY_API_KEY\"),\n",
    "    env=\"staging\",\n",
    "    jurisdiction=\"us\",\n",
    "    temperature=0.8,\n",
    "    provider='anthropics',\n",
    "    chat_model='claude-3-5-sonnet-v2',\n",
    "    max_tokens=8192,\n",
    "    safety_filtering='off'\n",
    ")\n",
    "\n",
    "\n",
    "claude37_sonnet = GenaiGatewayClient(\n",
    "    api_key=os.getenv(\"GENAI_GATEWAY_API_KEY\"),\n",
    "    env=\"staging\",\n",
    "    jurisdiction=\"us\",\n",
    "    temperature=0.8,\n",
    "    provider='anthropics',\n",
    "    chat_model='claude-3-7-sonnet',\n",
    "    max_tokens=8192,\n",
    "    safety_filtering='off'\n",
    ")\n",
    "\n",
    "gemini_20_pro = GenaiGatewayClient(\n",
    "    api_key=os.getenv(\"GENAI_GATEWAY_API_KEY\"),\n",
    "    env=\"staging\",\n",
    "    jurisdiction=\"us\",\n",
    "    temperature=0.8,\n",
    "    provider='vertex-ai',\n",
    "    chat_model='gemini-2.0-pro',\n",
    "    max_tokens=8192,\n",
    "    safety_filtering='off'\n",
    ")\n",
    "\n",
    "gemini_25_pro = GenaiGatewayClient(\n",
    "    api_key=os.getenv(\"GENAI_GATEWAY_API_KEY\"),\n",
    "    env=\"staging\",\n",
    "    jurisdiction=\"us\",\n",
    "    temperature=0.8,\n",
    "    provider='vertex-ai',\n",
    "    chat_model='gemini-2.5-pro',\n",
    "    max_tokens=8192,\n",
    "    safety_filtering='off'\n",
    ")\n",
    "\n",
    "\n",
    "model_map = {\n",
    "    'claude35': claude35_sonnet_v2,\n",
    "    # 'claude35_haiku': claude35_haiku,\n",
    "    'claude37': claude37_sonnet,\n",
    "    'gemini_20_pro': gemini_20_pro,\n",
    "    'gemini_25_pro': gemini_25_pro,\n",
    "}\n",
    "\n",
    "\n",
    "def model_response(prompt, model_name, max_tokens=4096):\n",
    "    model = model_map[model_name]\n",
    "    version = None\n",
    "    if model_name == 'gemini_20_flash':\n",
    "        version = '001'\n",
    "    if model_name == 'gemini_25_pro':\n",
    "        version = 'exp-03-25'\n",
    "    response = model.create_message(\n",
    "        messages=[{\"role\": \"user\", \"content\": prompt}],\n",
    "        max_tokens=max_tokens,\n",
    "        provider=model._provider,\n",
    "        model=model._chat_model,\n",
    "        version=version,\n",
    "\n",
    "    )['message']['content']\n",
    "    return response\n",
    "\n"
   ]
  },
  {
   "cell_type": "code",
   "execution_count": 8,
   "metadata": {},
   "outputs": [],
   "source": [
    "with open('test_article.txt', 'r') as f:\n",
    "    test_article = f.read()"
   ]
  },
  {
   "cell_type": "code",
   "execution_count": 14,
   "metadata": {},
   "outputs": [],
   "source": [
    "system_prompt = \"\"\"\n",
    "You are a research assistant. You job is to help me to create a flow chart of the paper content. \n",
    "Since it is about the workflow of the paper, your focus is the method applied in the paper.\n",
    "\n",
    "Your should contain your answer in a SVG format as following format:\n",
    "<format>\n",
    "you should have your output with this specific <svg> tag.\n",
    "\n",
    "<svg width=\"100%\" viewBox=\"0 0 1000 800\">\n",
    "Here are the content you can create freely, use all shapes, text format or styles as you like.\n",
    "Try to be creative, and make it look good and colorful.\n",
    "Try use less arrows, since the arrow you give tends to be messy.\n",
    "</svg>\n",
    "\n",
    "</format>\n",
    "\n",
    "Here is the content of the paper:\n",
    "<content>\n",
    "{article_content}\n",
    "</content>\n",
    "\n",
    "Now please give me the SVG format of the flow chart, you should only give me the SVG format directly, do not output backticks for formatting, no other text.\n",
    "\"\"\"\n",
    "\n",
    "prompt = system_prompt.format(article_content=test_article)"
   ]
  },
  {
   "cell_type": "code",
   "execution_count": 15,
   "metadata": {},
   "outputs": [],
   "source": [
    "response = model_response(prompt, 'gemini_25_pro', max_tokens=8192)"
   ]
  },
  {
   "cell_type": "code",
   "execution_count": 16,
   "metadata": {},
   "outputs": [
    {
     "name": "stdout",
     "output_type": "stream",
     "text": [
      "```svg\n",
      "<svg width=\"100%\" viewBox=\"0 0 1000 800\" xmlns=\"http://www.w3.org/2000/svg\">\n",
      "\n",
      "  <!-- Define styles -->\n",
      "  <style>\n",
      "    .title { font-family: sans-serif; font-size: 28px; font-weight: bold; text-anchor: middle; fill: #333; }\n",
      "    .phase-title { font-family: sans-serif; font-size: 20px; font-weight: bold; text-anchor: middle; fill: #222; }\n",
      "    .step-text { font-family: sans-serif; font-size: 14px; text-anchor: middle; fill: #111; }\n",
      "    .output-text { font-family: sans-serif; font-size: 15px; font-weight: bold; text-anchor: middle; fill: #0056b3; }\n",
      "    .arrow-head { fill: #555; }\n",
      "    .arrow-line { stroke: #555; stroke-width: 2; }\n",
      "  </style>\n",
      "\n",
      "  <!-- Define arrow marker -->\n",
      "  <defs>\n",
      "    <marker id=\"arrow\" markerWidth=\"10\" markerHeight=\"7\" refX=\"0\" refY=\"3.5\" orient=\"auto\">\n",
      "      <polygon points=\"0 0, 10 3.5, 0 7\" class=\"arrow-head\" />\n",
      "    </marker>\n",
      "  </defs>\n",
      "\n",
      "  <!-- Title -->\n",
      "  <text x=\"500\" y=\"40\" class=\"title\">DeepSeek LLM Methodology Flowchart</text>\n",
      "\n",
      "  <!-- Phase 1: Scaling Law Investigation -->\n",
      "  <g id=\"phase1\">\n",
      "    <rect x=\"150\" y=\"80\" width=\"700\" height=\"150\" rx=\"15\" ry=\"15\" fill=\"#e0f7fa\" stroke=\"#b2ebf2\" stroke-width=\"1\"/>\n",
      "    <text x=\"500\" y=\"110\" class=\"phase-title\">Phase 1: Scaling Law Investigation</text>\n",
      "    <rect x=\"180\" y=\"130\" width=\"200\" height=\"70\" rx=\"5\" ry=\"5\" fill=\"#b2ebf2\" />\n",
      "    <text x=\"280\" y=\"155\" class=\"step-text\">Study Hyperparameter</text>\n",
      "    <text x=\"280\" y=\"175\" class=\"step-text\">(Batch Size, LR) Scaling</text>\n",
      "    <rect x=\"400\" y=\"130\" width=\"200\" height=\"70\" rx=\"5\" ry=\"5\" fill=\"#b2ebf2\" />\n",
      "    <text x=\"500\" y=\"155\" class=\"step-text\">Study Optimal Model/</text>\n",
      "    <text x=\"500\" y=\"175\" class=\"step-text\">Data Scaling Allocation</text>\n",
      "    <rect x=\"620\" y=\"130\" width=\"200\" height=\"70\" rx=\"5\" ry=\"5\" fill=\"#b2ebf2\" />\n",
      "    <text x=\"720\" y=\"155\" class=\"step-text\">Analyze Dataset Impact</text>\n",
      "    <text x=\"720\" y=\"175\" class=\"step-text\">on Scaling Laws</text>\n",
      "  </g>\n",
      "\n",
      "  <!-- Arrow 1 -->\n",
      "  <line x1=\"500\" y1=\"230\" x2=\"500\" y2=\"260\" class=\"arrow-line\" marker-end=\"url(#arrow)\" />\n",
      "  <text x=\"520\" y=\"250\" class=\"step-text\" style=\"font-style: italic; fill: #555;\">Guides</text>\n",
      "\n",
      "  <!-- Phase 2: Pre-training -->\n",
      "  <g id=\"phase2\">\n",
      "    <rect x=\"150\" y=\"270\" width=\"700\" height=\"180\" rx=\"15\" ry=\"15\" fill=\"#e8f5e9\" stroke=\"#c8e6c9\" stroke-width=\"1\"/>\n",
      "    <text x=\"500\" y=\"300\" class=\"phase-title\">Phase 2: Pre-training</text>\n",
      "    <rect x=\"180\" y=\"320\" width=\"200\" height=\"70\" rx=\"5\" ry=\"5\" fill=\"#c8e6c9\" />\n",
      "    <text x=\"280\" y=\"345\" class=\"step-text\">Data Collection</text>\n",
      "    <text x=\"280\" y=\"365\" class=\"step-text\">(2T+ Tokens, En/Zh)</text>\n",
      "    <rect x=\"400\" y=\"320\" width=\"200\" height=\"70\" rx=\"5\" ry=\"5\" fill=\"#c8e6c9\" />\n",
      "    <text x=\"500\" y=\"345\" class=\"step-text\">Model Architecture</text>\n",
      "    <text x=\"500\" y=\"365\" class=\"step-text\">(LLaMA-based, Multi-step LR)</text>\n",
      "    <rect x=\"620\" y=\"320\" width=\"200\" height=\"70\" rx=\"5\" ry=\"5\" fill=\"#c8e6c9\" />\n",
      "    <text x=\"720\" y=\"345\" class=\"step-text\">Train Models</text>\n",
      "    <text x=\"720\" y=\"365\" class=\"step-text\">(e.g., 7B, 67B)</text>\n",
      "    <!-- Output -->\n",
      "    <ellipse cx=\"500\" cy=\"425\" rx=\"150\" ry=\"20\" fill=\"#a5d6a7\"/>\n",
      "    <text x=\"500\" y=\"430\" class=\"output-text\">Output: DeepSeek LLM Base Models</text>\n",
      "  </g>\n",
      "\n",
      "  <!-- Arrow 2 -->\n",
      "  <line x1=\"500\" y1=\"450\" x2=\"500\" y2=\"480\" class=\"arrow-line\" marker-end=\"url(#arrow)\" />\n",
      "\n",
      "  <!-- Phase 3: Alignment -->\n",
      "  <g id=\"phase3\">\n",
      "    <rect x=\"150\" y=\"490\" width=\"700\" height=\"150\" rx=\"15\" ry=\"15\" fill=\"#fff3e0\" stroke=\"#ffe0b2\" stroke-width=\"1\"/>\n",
      "    <text x=\"500\" y=\"520\" class=\"phase-title\">Phase 3: Alignment</text>\n",
      "    <rect x=\"180\" y=\"540\" width=\"270\" height=\"40\" rx=\"5\" ry=\"5\" fill=\"#ffe0b2\" />\n",
      "    <text x=\"315\" y=\"565\" class=\"step-text\">SFT Data Collection (>1M Instances)</text>\n",
      "    <rect x=\"470\" y=\"540\" width=\"170\" height=\"40\" rx=\"5\" ry=\"5\" fill=\"#ffe0b2\" />\n",
      "    <text x=\"555\" y=\"565\" class=\"step-text\">Supervised Fine-Tuning (SFT)</text>\n",
      "    <rect x=\"660\" y=\"540\" width=\"190\" height=\"40\" rx=\"5\" ry=\"5\" fill=\"#ffe0b2\" />\n",
      "    <text x=\"755\" y=\"565\" class=\"step-text\">Direct Preference Opt. (DPO)</text>\n",
      "    <!-- Output -->\n",
      "    <ellipse cx=\"500\" cy=\"615\" rx=\"150\" ry=\"20\" fill=\"#ffcc80\"/>\n",
      "    <text x=\"500\" y=\"620\" class=\"output-text\">Output: DeepSeek Chat Models</text>\n",
      "  </g>\n",
      "\n",
      "  <!-- Arrow 3 -->\n",
      "  <line x1=\"500\" y1=\"640\" x2=\"500\" y2=\"670\" class=\"arrow-line\" marker-end=\"url(#arrow)\" />\n",
      "\n",
      "  <!-- Phase 4: Evaluation -->\n",
      "  <g id=\"phase4\">\n",
      "    <rect x=\"150\" y=\"680\" width=\"700\" height=\"100\" rx=\"15\" ry=\"15\" fill=\"#ede7f6\" stroke=\"#d1c4e9\" stroke-width=\"1\"/>\n",
      "    <text x=\"500\" y=\"705\" class=\"phase-title\">Phase 4: Evaluation</text>\n",
      "    <rect x=\"180\" y=\"720\" width=\"310\" height=\"45\" rx=\"5\" ry=\"5\" fill=\"#d1c4e9\" />\n",
      "    <text x=\"335\" y=\"738\" class=\"step-text\">Evaluate Base Models</text>\n",
      "    <text x=\"335\" y=\"755\" class=\"step-text\">(Benchmarks: Code, Math, Reasoning)</text>\n",
      "    <rect x=\"510\" y=\"720\" width=\"310\" height=\"45\" rx=\"5\" ry=\"5\" fill=\"#d1c4e9\" />\n",
      "    <text x=\"665\" y=\"738\" class=\"step-text\">Evaluate Chat Models</text>\n",
      "    <text x=\"665\" y=\"755\" class=\"step-text\">(Benchmarks, Open-Ended, Safety)</text>\n",
      "  </g>\n",
      "\n",
      "</svg>\n",
      "```\n"
     ]
    }
   ],
   "source": [
    "print(response)"
   ]
  },
  {
   "cell_type": "code",
   "execution_count": null,
   "metadata": {},
   "outputs": [
    {
     "ename": "",
     "evalue": "",
     "output_type": "error",
     "traceback": [
      "\u001b[1;31mnotebook controller is DISPOSED. \n",
      "\u001b[1;31mView Jupyter <a href='command:jupyter.viewOutput'>log</a> for further details."
     ]
    }
   ],
   "source": []
  },
  {
   "cell_type": "code",
   "execution_count": null,
   "metadata": {},
   "outputs": [
    {
     "ename": "",
     "evalue": "",
     "output_type": "error",
     "traceback": [
      "\u001b[1;31mnotebook controller is DISPOSED. \n",
      "\u001b[1;31mView Jupyter <a href='command:jupyter.viewOutput'>log</a> for further details."
     ]
    }
   ],
   "source": []
  },
  {
   "cell_type": "code",
   "execution_count": null,
   "metadata": {},
   "outputs": [],
   "source": []
  }
 ],
 "metadata": {
  "kernelspec": {
   "display_name": "planet",
   "language": "python",
   "name": "python3"
  },
  "language_info": {
   "codemirror_mode": {
    "name": "ipython",
    "version": 3
   },
   "file_extension": ".py",
   "mimetype": "text/x-python",
   "name": "python",
   "nbconvert_exporter": "python",
   "pygments_lexer": "ipython3",
   "version": "3.11.11"
  }
 },
 "nbformat": 4,
 "nbformat_minor": 2
}
